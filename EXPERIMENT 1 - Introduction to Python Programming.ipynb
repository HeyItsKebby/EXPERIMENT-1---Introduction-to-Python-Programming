{
 "cells": [
  {
   "cell_type": "markdown",
   "id": "1b525595-3af6-4107-b08d-c36126e0058a",
   "metadata": {},
   "source": [
    "## ALPHABET SOUP PROBLEM: \n",
    "### Create a function that takes a string and returns a string with its letters in alphabetical order."
   ]
  },
  {
   "cell_type": "code",
   "execution_count": 3,
   "id": "97a46a1b-32a1-4b1c-ad4a-354b105b7c5c",
   "metadata": {},
   "outputs": [
    {
     "name": "stdin",
     "output_type": "stream",
     "text": [
      "Type a word:  alphabetical\n"
     ]
    },
    {
     "name": "stdout",
     "output_type": "stream",
     "text": [
      "Your alphabetized word is: aaabcehillpt\n"
     ]
    }
   ],
   "source": [
    "def alphabet_soup():\n",
    "    # user input\n",
    "    word = input(\"Type a word: \")\n",
    "    \n",
    "    # converting to list\n",
    "    letters = list(word)\n",
    "    \n",
    "    # sorting list\n",
    "    letters.sort()\n",
    "    \n",
    "    # string conversion\n",
    "    sorted_word = ''.join(letters)\n",
    "    \n",
    "    # printing word\n",
    "    print(\"Your alphabetized word is:\", sorted_word)\n",
    "\n",
    "alphabet_soup()"
   ]
  },
  {
   "cell_type": "markdown",
   "id": "ca6c6384-bf96-4fe6-92ee-4c79de2ad9c3",
   "metadata": {},
   "source": [
    "## EMOTICON PROBLEM: \n",
    "### Create a function that changes specific words into emoticons. Given a sentenceas a string, replace the words smile, grin, sad and mad with their corresponding emoticon:"
   ]
  },
  {
   "cell_type": "code",
   "execution_count": 7,
   "id": "508b0a1c-98f9-4191-926c-1fc1f99eb81f",
   "metadata": {},
   "outputs": [
    {
     "name": "stdin",
     "output_type": "stream",
     "text": [
      "Type a sentence:  I am very sad, make me smile please.\n"
     ]
    },
    {
     "name": "stdout",
     "output_type": "stream",
     "text": [
      "Emotified sentence: I am very :((, make me :) please.\n"
     ]
    }
   ],
   "source": [
    "def emotify():\n",
    "    # user input\n",
    "    sentence = input(\"Type a sentence: \")\n",
    "    \n",
    "    # emotification process\n",
    "    sentence = sentence.replace(\"smile\", \":)\")\n",
    "    sentence = sentence.replace(\"grin\", \":D\")\n",
    "    sentence = sentence.replace(\"sad\", \":((\")\n",
    "    sentence = sentence.replace(\"mad\", \">:(\")\n",
    "    \n",
    "    # print emotified sentence\n",
    "    print(\"Emotified sentence:\", sentence)\n",
    "\n",
    "emotify()"
   ]
  },
  {
   "cell_type": "markdown",
   "id": "e3194985-f975-4fd9-b75c-1c6c5cbdefe8",
   "metadata": {},
   "source": [
    "## UNPACKING LIST PROBLEM: \n",
    "### Unpack the list into three variables, being first, middle, and last, with middle being everything in between the first and last element. Then print all three variables."
   ]
  },
  {
   "cell_type": "code",
   "execution_count": 13,
   "id": "e89e0334-d517-4e41-a361-ccd6746928cd",
   "metadata": {},
   "outputs": [
    {
     "name": "stdin",
     "output_type": "stream",
     "text": [
      "Type your numbers (Example: 1,2,3,4,5,6):  1, 2, 3, 4, 5, 6, 7, 8, 9, 10\n"
     ]
    },
    {
     "name": "stdout",
     "output_type": "stream",
     "text": [
      "first: 1\n",
      "middle: [2, 3, 4, 5, 6, 7, 8, 9]\n",
      "last: 10\n"
     ]
    }
   ],
   "source": [
    "def unpack_list():\n",
    "    # user input\n",
    "    user_input = input(\"Type your numbers (Example: 1,2,3,4,5,6): \")\n",
    "    \n",
    "    # converting to list\n",
    "    numbers = list(map(int, user_input.split(',')))\n",
    "    \n",
    "    # unpacking the list into first, middle, last\n",
    "    first = numbers[0]\n",
    "    middle = numbers[1:-1]\n",
    "    last = numbers[-1]\n",
    "    \n",
    "    # print\n",
    "    print(\"first:\", first)\n",
    "    print(\"middle:\", middle)\n",
    "    print(\"last:\", last)\n",
    "    \n",
    "unpack_list()"
   ]
  },
  {
   "cell_type": "code",
   "execution_count": null,
   "id": "57ed9ad7-aaab-4c35-82dd-941f26cf71d0",
   "metadata": {},
   "outputs": [],
   "source": []
  }
 ],
 "metadata": {
  "kernelspec": {
   "display_name": "Python 3 (ipykernel)",
   "language": "python",
   "name": "python3"
  },
  "language_info": {
   "codemirror_mode": {
    "name": "ipython",
    "version": 3
   },
   "file_extension": ".py",
   "mimetype": "text/x-python",
   "name": "python",
   "nbconvert_exporter": "python",
   "pygments_lexer": "ipython3",
   "version": "3.12.4"
  }
 },
 "nbformat": 4,
 "nbformat_minor": 5
}
